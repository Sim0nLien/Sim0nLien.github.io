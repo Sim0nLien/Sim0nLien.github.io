{
 "cells": [
  {
   "cell_type": "markdown",
   "id": "9bbcb8b6",
   "metadata": {},
   "source": [
    "Afin d’étudier le fonctionnement de l’asservissement à l’aide de calculs de convolution.\n",
    "\n",
    "[Lien](https://www.tutorialspoint.com/control_systems/control_systems_quick_guide.htm)"
   ]
  },
  {
   "cell_type": "code",
   "execution_count": null,
   "id": "79ad3d13",
   "metadata": {},
   "outputs": [],
   "source": [
    "# Import les bibliothèques nécessaires\n",
    "\n",
    "import numpy as np\n",
    "import matplotlib.pyplot as plt\n",
    "\n"
   ]
  },
  {
   "cell_type": "markdown",
   "id": "b02f9f32",
   "metadata": {},
   "source": [
    "![Texte alternatif](images/image.png)\n",
    "\n",
    "source : tutorialspoint.com "
   ]
  },
  {
   "cell_type": "code",
   "execution_count": null,
   "id": "a0570c4f",
   "metadata": {},
   "outputs": [],
   "source": [
    "# Les variables de la simulation\n",
    "\n",
    "# Le temps de simulation\n",
    "\n",
    "time = np.linspace(0, 0.01, 1000)  # 10 ms de simulation\n",
    "\n",
    "# V_in = entrée de la tension\n",
    "# V_out = sortie de la tension\n",
    "# i_in = entrée du courant\n",
    "\n",
    "# Les composantes du circuit\n",
    "\n",
    "R = 1000  # Résistance R en ohms\n",
    "L = 1e-3  # Inductance L en henrys\n",
    "C = 1e-6  # Capacité C en farads\n",
    "\n",
    "# On prend la tension de la capacité comme la sortie du circuit\n",
    "\n",
    "V_in = 3 * time # Tension d'entrée en volts\n",
    "i_in = 0.01 * time # Courant d'entrée en ampères"
   ]
  },
  {
   "cell_type": "markdown",
   "id": "a5118a1e",
   "metadata": {},
   "source": [
    "Pour la capacité"
   ]
  },
  {
   "cell_type": "code",
   "execution_count": null,
   "id": "0a2314fe",
   "metadata": {},
   "outputs": [],
   "source": [
    "def Tension_capacite(time, C, i_in):\n",
    "    return 1/C * np.cumsum(i_in * np.diff(time, prepend=0))\n",
    "\n",
    "plt.figure(figsize=(10, 5))\n",
    "plt.plot(time, Tension_capacite(), label='Tension sur le condensateur', color='blue')\n"
   ]
  }
 ],
 "metadata": {
  "kernelspec": {
   "display_name": "base",
   "language": "python",
   "name": "python3"
  },
  "language_info": {
   "codemirror_mode": {
    "name": "ipython",
    "version": 3
   },
   "file_extension": ".py",
   "mimetype": "text/x-python",
   "name": "python",
   "nbconvert_exporter": "python",
   "pygments_lexer": "ipython3",
   "version": "3.9.12"
  }
 },
 "nbformat": 4,
 "nbformat_minor": 5
}
