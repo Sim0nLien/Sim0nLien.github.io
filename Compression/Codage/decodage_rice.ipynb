{
 "cells": [
  {
   "cell_type": "markdown",
   "id": "4129b3b7",
   "metadata": {},
   "source": [
    "# Decodage_Rice\n",
    "\n",
    "### fonction :"
   ]
  },
  {
   "cell_type": "code",
   "execution_count": 10,
   "id": "c0ed1451",
   "metadata": {},
   "outputs": [],
   "source": [
    "# Les variables : \n",
    "\n",
    "binaires = [1, 1, 0, 0, 0, 0, 0, 0, 0, 0, 1, 0, 1]\n",
    "k = 10"
   ]
  },
  {
   "cell_type": "code",
   "execution_count": null,
   "id": "df42fef8",
   "metadata": {},
   "outputs": [],
   "source": [
    "import numpy as numpy\n",
    "\n",
    "\n",
    "def Rice_decode(encoded, k):\n",
    "    valeur = 0\n",
    "    parse = 0\n",
    "    while encoded[parse] == 1:\n",
    "        parse += 1\n",
    "    valeur = parse * k\n",
    "    print(\"valeur = \", valeur)\n",
    "    parse += 1\n",
    "    reste = 0\n",
    "    test = int(numpy.log2(k))\n",
    "    for i in range(test, 0, -1):\n",
    "        print(\"i = \", i)\n",
    "        reste = reste + encoded[parse + i] * (2 ** i)\n",
    "    parse += 1\n",
    "    print(\"reste\", reste)\n",
    "    valeur += reste\n",
    "    return valeur\n",
    "\n",
    "\n",
    "\n",
    "\n"
   ]
  },
  {
   "cell_type": "code",
   "execution_count": 30,
   "id": "cee2c882",
   "metadata": {},
   "outputs": [
    {
     "name": "stdout",
     "output_type": "stream",
     "text": [
      "valeur =  20\n",
      "i =  3\n",
      "i =  2\n",
      "i =  1\n",
      "reste 0\n",
      "Le résultat de la décompression est :  20\n"
     ]
    }
   ],
   "source": [
    "resultat = Rice_decode(binaires, k)\n",
    "\n",
    "print(\"Le résultat de la décompression est : \", resultat)\n"
   ]
  }
 ],
 "metadata": {
  "kernelspec": {
   "display_name": "base",
   "language": "python",
   "name": "python3"
  },
  "language_info": {
   "codemirror_mode": {
    "name": "ipython",
    "version": 3
   },
   "file_extension": ".py",
   "mimetype": "text/x-python",
   "name": "python",
   "nbconvert_exporter": "python",
   "pygments_lexer": "ipython3",
   "version": "3.9.12"
  }
 },
 "nbformat": 4,
 "nbformat_minor": 5
}
