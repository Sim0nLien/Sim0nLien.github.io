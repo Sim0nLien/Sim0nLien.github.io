{
 "cells": [
  {
   "cell_type": "markdown",
   "id": "4129b3b7",
   "metadata": {},
   "source": [
    "# Decodage_Rice\n",
    "\n",
    "### fonction :"
   ]
  },
  {
   "cell_type": "code",
   "execution_count": 45,
   "id": "c0ed1451",
   "metadata": {},
   "outputs": [],
   "source": [
    "# Les variables : \n",
    "\n",
    "binaires = [1, 0, 1, 0, 0, 1]\n",
    "k = 4"
   ]
  },
  {
   "cell_type": "code",
   "execution_count": 46,
   "id": "df42fef8",
   "metadata": {},
   "outputs": [],
   "source": [
    "import numpy as numpy\n",
    "\n",
    "\n",
    "def Rice_decode(encoded, k):\n",
    "    parse = 0\n",
    "    q = 0\n",
    "\n",
    "    # Lire le code unaire : nombre de 1 avant le premier 0\n",
    "    while encoded[parse] == 1:\n",
    "        q += 1\n",
    "        parse += 1\n",
    "\n",
    "    # Sauter le '0' final du code unaire\n",
    "    parse += 1\n",
    "\n",
    "    # Lire k bits pour le reste\n",
    "    r_bits = encoded[parse:parse + k]\n",
    "    r_str = ''.join(str(bit) for bit in r_bits)  # convertir en chaîne binaire\n",
    "    r = int(r_str, 2)\n",
    "\n",
    "    # Calculer la valeur originale\n",
    "    valeur = q * (2 ** k) + r\n",
    "    return valeur\n",
    "\n",
    "\n",
    "\n",
    "\n",
    "\n"
   ]
  },
  {
   "cell_type": "code",
   "execution_count": 47,
   "id": "cee2c882",
   "metadata": {},
   "outputs": [
    {
     "name": "stdout",
     "output_type": "stream",
     "text": [
      "Le résultat de la décompression est :  25\n"
     ]
    }
   ],
   "source": [
    "resultat = Rice_decode(binaires, k)\n",
    "\n",
    "print(\"Le résultat de la décompression est : \", resultat)\n"
   ]
  }
 ],
 "metadata": {
  "kernelspec": {
   "display_name": "base",
   "language": "python",
   "name": "python3"
  },
  "language_info": {
   "codemirror_mode": {
    "name": "ipython",
    "version": 3
   },
   "file_extension": ".py",
   "mimetype": "text/x-python",
   "name": "python",
   "nbconvert_exporter": "python",
   "pygments_lexer": "ipython3",
   "version": "3.9.12"
  }
 },
 "nbformat": 4,
 "nbformat_minor": 5
}
