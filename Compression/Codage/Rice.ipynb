{
 "cells": [
  {
   "cell_type": "markdown",
   "id": "ab673870",
   "metadata": {},
   "source": [
    "# Codage de Rice\n",
    "\n",
    "### Les étapes du codage de Rice :\n",
    "\n",
    "##### Étape 1 :\n",
    "\n",
    "Choisir un nombre k. Ici, nous testerons le résultat sur plusieurs valeurs de k avant de déterminer la meilleure valeur."
   ]
  },
  {
   "cell_type": "code",
   "execution_count": 15,
   "id": "bbe08705",
   "metadata": {},
   "outputs": [],
   "source": [
    "import numpy as np\n",
    "import matplotlib.pyplot as plt"
   ]
  },
  {
   "cell_type": "code",
   "execution_count": 16,
   "id": "e69012b1",
   "metadata": {},
   "outputs": [],
   "source": [
    "# On choisit un coefficient arbitraire pour l'instant : \n",
    "k = 4 \n",
    "\n",
    "# Valeur à coder : \n",
    "value = 18\n"
   ]
  },
  {
   "cell_type": "markdown",
   "id": "2854101c",
   "metadata": {},
   "source": [
    "##### Étape 2 :\n",
    "\n",
    "On divise le nombre par notre coefficient afin d'obtenir le quotient et le reste."
   ]
  },
  {
   "cell_type": "code",
   "execution_count": 17,
   "id": "a7d31003",
   "metadata": {},
   "outputs": [
    {
     "name": "stdout",
     "output_type": "stream",
     "text": [
      "résultat de la division entière : \n",
      "quotient :  4\n",
      "reste :  2\n"
     ]
    }
   ],
   "source": [
    "def division(value, k):\n",
    "    return value // k, value % k\n",
    "\n",
    "#On obtient alors :\n",
    "print(\"résultat de la division entière : \")\n",
    "print(\"quotient : \", division(value, k)[0])\n",
    "print(\"reste : \", division(value, k)[1])"
   ]
  },
  {
   "cell_type": "markdown",
   "id": "d1f5f1f5",
   "metadata": {},
   "source": [
    "##### Etapes 3 : \n",
    "\n",
    "Maintenant, on doit coder le quotient en unaire, ajouter 1 et terminer en écrivant en notant la valeur du reste en binaire\n"
   ]
  },
  {
   "cell_type": "code",
   "execution_count": null,
   "id": "f46b1ea8",
   "metadata": {},
   "outputs": [
    {
     "name": "stdout",
     "output_type": "stream",
     "text": [
      "[1, 1, 1, 1, 0, 0, 0, 1, 0]\n"
     ]
    }
   ],
   "source": [
    "quotient, reste = division(value, k)\n",
    "\n",
    "result = []\n",
    "\n",
    "for i in range(0, quotient):\n",
    "    result.append(1)\n",
    "\n",
    "\n",
    "result.append(0)\n",
    "res = [0] * k \n",
    "\n",
    "index = k - 1\n",
    "while reste > 0 and index >= 0:\n",
    "    res[index] = reste % 2\n",
    "    reste >>= 1\n",
    "    index -= 1\n",
    "\n",
    "result.extend(res)\n",
    "print(result)"
   ]
  },
  {
   "cell_type": "markdown",
   "id": "144836fb",
   "metadata": {},
   "source": [
    "### Code globale ✨\n",
    "\n",
    "Voici le code qui permet de réaliser le codage de Rice \n"
   ]
  },
  {
   "cell_type": "code",
   "execution_count": 21,
   "id": "e44a5512",
   "metadata": {},
   "outputs": [
    {
     "name": "stdout",
     "output_type": "stream",
     "text": [
      "valeur codée :  [1, 0, 1, 0, 0, 1]\n",
      "6\n"
     ]
    }
   ],
   "source": [
    "def Rice_encode(value, k):\n",
    "    diviseur = 2 ** k\n",
    "    quotient = value // diviseur\n",
    "    reste = value % diviseur\n",
    "\n",
    "    result = []\n",
    "    result.extend([1] * quotient)\n",
    "    result.append(0)\n",
    "\n",
    "    for i in reversed(range(k)):\n",
    "        result.append((reste >> i) & 1)\n",
    "\n",
    "    return result\n",
    "\n",
    "\n",
    "#Exemple d'utilisation :\n",
    "\n",
    "value = 25\n",
    "k = 4\n",
    "\n",
    "encoded_value = Rice_encode(value, k)\n",
    "print(\"valeur codée : \", encoded_value)\n",
    "print(len(Rice_encode(value, k)))"
   ]
  },
  {
   "cell_type": "markdown",
   "id": "2f5c74a2",
   "metadata": {},
   "source": [
    "### Petite étude de l'intérêt 📊"
   ]
  },
  {
   "cell_type": "code",
   "execution_count": null,
   "id": "52d14a0a",
   "metadata": {},
   "outputs": [
    {
     "data": {
      "image/png": "[encoded data removed]",
      "text/plain": [
       "<Figure size 864x432 with 1 Axes>"
      ]
     },
     "metadata": {
      "needs_background": "light"
     },
     "output_type": "display_data"
    }
   ],
   "source": [
    "# Les résultats codage sans Rice\n",
    "\n",
    "entier = np.linspace(1,1000, num=1000, dtype=int)\n",
    "\n",
    "sans_rice = []\n",
    "avec_rice = []\n",
    "\n",
    "for i in enumerate(entier):\n",
    "    #Sans Rice\n",
    "    sans_rice.append(len(list(np.binary_repr(i[1], None))))\n",
    "    #Avec Rice\n",
    "    best_idx = 1000\n",
    "    for j in range(1, 30):\n",
    "        best = len(Rice_encode(i[1], best_idx))\n",
    "        val = len(Rice_encode(i[1], j))\n",
    "        if  val < best:\n",
    "            best_idx = j\n",
    "    avec_rice.append(best_idx)\n",
    "\n",
    "\n",
    "plt.figure(figsize=(12, 6))\n",
    "plt.plot(entier, sans_rice, label=\"sans Rice\", color=\"skyblue\", linewidth=2)\n",
    "plt.plot(entier, avec_rice, label=\"avec Rice\", color=\"dodgerblue\", linewidth=2)\n",
    "plt.xlabel(\"Valeur entière\", fontsize=12)\n",
    "plt.ylabel(\"Taille du code\", fontsize=12)\n",
    "plt.title(\"Taille du code avec et sans Rice\", fontsize=14, fontweight=\"bold\")\n",
    "plt.legend()\n",
    "plt.grid(color=\"lightgray\", linestyle=\"--\", linewidth=0.5)\n",
    "plt.show()"
   ]
  },
  {
   "cell_type": "markdown",
   "id": "873fdae5",
   "metadata": {},
   "source": [
    "```markdown\n",
    "### Programme en C++ pour le codage de Rice\n",
    "\n",
    "\n",
    "```cpp\n",
    "int main() {\n",
    " \n",
    "    return 0;\n",
    "}\n",
    "```\n",
    "\n"
   ]
  },
  {
   "cell_type": "markdown",
   "id": "15e51231",
   "metadata": {},
   "source": [
    "\n",
    "[Décodage de Rice](decodage_rice.md)\n",
    "\n",
    "[Implémentation en C++](https://github.com/)\n",
    "\n",
    "\n",
    "SLIENARD"
   ]
  }
 ],
 "metadata": {
  "kernelspec": {
   "display_name": "base",
   "language": "python",
   "name": "python3"
  },
  "language_info": {
   "codemirror_mode": {
    "name": "ipython",
    "version": 3
   },
   "file_extension": ".py",
   "mimetype": "text/x-python",
   "name": "python",
   "nbconvert_exporter": "python",
   "pygments_lexer": "ipython3",
   "version": "3.9.12"
  }
 },
 "nbformat": 4,
 "nbformat_minor": 5
}
